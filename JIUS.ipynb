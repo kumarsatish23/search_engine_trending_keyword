{
 "cells": [
  {
   "cell_type": "code",
   "execution_count": null,
   "metadata": {
    "collapsed": false
   },
   "outputs": [],
   "source": [
    "pip install --upgrade pip"
   ]
  },
  {
   "cell_type": "code",
   "execution_count": null,
   "metadata": {
    "collapsed": false
   },
   "outputs": [],
   "source": [
    "pip install pytrends"
   ]
  },
  {
   "cell_type": "code",
   "execution_count": null,
   "metadata": {
    "collapsed": false
   },
   "outputs": [],
   "source": [
    "pip install pandas"
   ]
  },
  {
   "cell_type": "code",
   "execution_count": null,
   "metadata": {
    "collapsed": false
   },
   "outputs": [],
   "source": [
    "pip install matplotlib"
   ]
  },
  {
   "cell_type": "code",
   "execution_count": null,
   "metadata": {
    "collapsed": false
   },
   "outputs": [],
   "source": [
    "pip install wordcloud"
   ]
  },
  {
   "cell_type": "code",
   "execution_count": null,
   "metadata": {
    "collapsed": false
   },
   "outputs": [],
   "source": [
    "pip install seaborn"
   ]
  },
  {
   "cell_type": "code",
   "execution_count": null,
   "metadata": {
    "ExecuteTime": {
     "start_time": "2024-02-13T06:35:20.690923300Z"
    },
    "collapsed": false
   },
   "outputs": [],
   "source": [
    "pip install plotly"
   ]
  },
  {
   "cell_type": "code",
   "execution_count": null,
   "metadata": {
    "ExecuteTime": {
     "end_time": "2024-02-13T06:55:56.432815400Z",
     "start_time": "2024-02-13T06:54:26.803759600Z"
    }
   },
   "outputs": [],
   "source": [
    "from pytrends.request import TrendReq\n",
    "import pandas as pd\n",
    "from IPython.display import display, HTML\n",
    "\n",
    "# Create pytrends object\n",
    "pytrends = TrendReq()\n",
    "\n",
    "# Read keyword input from the user\n",
    "keyword_input = input(\"Enter a keyword value: \")\n",
    "\n",
    "# Build payload to get related queries for the main keyword\n",
    "try:\n",
    "    pytrends.build_payload(kw_list=[keyword_input], geo='US', timeframe='today 12-m')\n",
    "    related_queries_main = pytrends.related_queries().values()\n",
    "except Exception as e:\n",
    "    print(\"Error occurred while fetching related queries:\", e)\n",
    "    related_queries_main = []\n",
    "\n",
    "# Extract queries from the dictionary values for the main keyword\n",
    "queries = [query_data['top']['query'].tolist() for query_data in related_queries_main if query_data['top'] is not None]\n",
    "queries = [query for sublist in queries for query in sublist]\n",
    "\n",
    "# Define the number of results per batch\n",
    "results_per_batch = 25\n",
    "\n",
    "# List to store all related queries\n",
    "related_queries_all = []\n",
    "\n",
    "# Process queries in batches\n",
    "for query in queries:\n",
    "    try:\n",
    "        pytrends.build_payload(kw_list=[query], geo='US', timeframe='today 12-m')\n",
    "        related_queries = pytrends.related_queries().values()\n",
    "        related_queries_all.extend([\n",
    "            {'query': related_query, 'value': value}\n",
    "            for query_data in related_queries\n",
    "            if query_data['top'] is not None\n",
    "            for related_query, value in zip(query_data['top']['query'].tolist(), query_data['top']['value'].tolist())\n",
    "        ])\n",
    "    except Exception as e:\n",
    "        print(\"Error occurred while processing query:\", query, e)\n",
    "\n",
    "# Aggregate and sum related queries\n",
    "related_queries_agg = {}\n",
    "for item in related_queries_all:\n",
    "    query = item['query']\n",
    "    value = item['value']\n",
    "    if query in related_queries_agg:\n",
    "        related_queries_agg[query] += value\n",
    "    else:\n",
    "        related_queries_agg[query] = value\n",
    "\n",
    "# Sort the related queries by value in descending order\n",
    "related_queries_all_sorted = [{'query': k, 'value': v} for k, v in sorted(related_queries_agg.items(), key=lambda item: item[1], reverse=True)]\n",
    "\n",
    "# Convert the sorted related queries data into a pandas DataFrame\n",
    "df = pd.DataFrame(related_queries_all_sorted)\n",
    "\n",
    "# Export data to CSV with user-specified filename\n",
    "csv_filename = f\"{keyword_input}.csv\"\n",
    "df.to_csv(csv_filename, index=False)\n",
    "print(f\"Data exported to {csv_filename}\")\n",
    "df"
   ]
  },
  {
   "cell_type": "code",
   "execution_count": null,
   "metadata": {
    "ExecuteTime": {
     "end_time": "2024-02-13T06:38:51.258365600Z",
     "start_time": "2024-02-13T06:38:44.106723200Z"
    }
   },
   "outputs": [],
   "source": [
    "from pytrends.request import TrendReq\n",
    "import pandas as pd\n",
    "import plotly.express as px\n",
    "from requests.exceptions import HTTPError\n",
    "import time\n",
    "\n",
    "# Create pytrends object\n",
    "pytrends = TrendReq()\n",
    "\n",
    "# Read keyword input from the user\n",
    "keyword = input(\"Enter a keyword value: \")\n",
    "\n",
    "# Build payload to get search interest by region\n",
    "pytrends.build_payload(kw_list=[keyword], geo='US', timeframe='today 12-m')\n",
    "\n",
    "# Get search interest by region with retries\n",
    "state_data = None\n",
    "for attempt in range(5):\n",
    "    try:\n",
    "        state_data = pytrends.interest_by_region(resolution='REGION', inc_low_vol=True, inc_geo_code=False)\n",
    "        break  # Break the loop if successful\n",
    "    except HTTPError as e:\n",
    "        print(f\"HTTP Error occurred: {e}\")\n",
    "        print(\"Retrying...\")\n",
    "        time.sleep(5)  # Wait for 5 seconds before retrying\n",
    "\n",
    "if state_data is None:\n",
    "    print(\"Failed to retrieve data after multiple attempts.\")\n",
    "    exit()\n",
    "\n",
    "# Batch process state name retrieval\n",
    "state_codes = state_data.index.tolist()\n",
    "try:\n",
    "    suggestions = pytrends.suggestions(','.join(state_codes))\n",
    "    state_name_dict = {item['mid']: item['title'] for item in suggestions}\n",
    "except Exception as e:\n",
    "    print(f\"Error occurred while retrieving state names: {e}\")\n",
    "    state_name_dict = {}\n",
    "\n",
    "# Convert state codes to state names\n",
    "state_names = [state_name_dict.get(state_code, state_code) for state_code in state_data.index]\n",
    "state_data['State'] = state_names\n",
    "\n",
    "# Sort state-wise search interest data by values in descending order\n",
    "state_data_sorted = state_data.sort_values(by=keyword, ascending=False)\n",
    "\n",
    "# Plot state-wise keyword search interest using Plotly\n",
    "fig = px.bar(state_data_sorted, x=state_data_sorted.index, y=keyword, color=keyword,\n",
    "             title=f'State-wise Search Interest for the Keyword \"{keyword}\" in the US (Past Year)',\n",
    "             labels={'value': 'Search Interest', 'index': 'State'},\n",
    "             template='plotly_white')\n",
    "fig.update_xaxes(tickangle=-45)\n",
    "fig.show()\n",
    "\n",
    "# Export data to CSV with user-specified filename\n",
    "csv_filename = f\"{keyword}_search_interest_stateWise.csv\"\n",
    "state_data_sorted.to_csv(csv_filename)\n",
    "print(f\"State-wise search interest data exported to {csv_filename}\")\n"
   ]
  },
  {
   "cell_type": "code",
   "execution_count": null,
   "metadata": {
    "ExecuteTime": {
     "end_time": "2024-02-13T07:39:27.318999600Z",
     "start_time": "2024-02-13T07:39:18.375625900Z"
    },
    "collapsed": false
   },
   "outputs": [],
   "source": [
    "from pytrends.request import TrendReq\n",
    "import pandas as pd\n",
    "import plotly.graph_objects as go\n",
    "from requests.exceptions import HTTPError\n",
    "import time\n",
    "\n",
    "# Suppress FutureWarning raised by Pandas\n",
    "pd.set_option('future.no_silent_downcasting', True)\n",
    "\n",
    "# Create pytrends object\n",
    "pytrends = TrendReq()\n",
    "\n",
    "# Read keyword input from the user\n",
    "keyword = input(\"Enter a keyword value: \")\n",
    "\n",
    "# Build payload to get search interest over time for the keyword in the US\n",
    "pytrends.build_payload(kw_list=[keyword], geo='US', timeframe='today 12-m')\n",
    "\n",
    "# Get search interest over time\n",
    "interest_over_time_df = None\n",
    "for attempt in range(5):\n",
    "    try:\n",
    "        interest_over_time_df = pytrends.interest_over_time()\n",
    "        break  # Break the loop if successful\n",
    "    except HTTPError as e:\n",
    "        print(f\"HTTP Error occurred: {e}\")\n",
    "        print(\"Retrying...\")\n",
    "        time.sleep(5)  # Wait for 5 seconds before retrying\n",
    "\n",
    "if interest_over_time_df is None:\n",
    "    print(\"Failed to retrieve data after multiple attempts.\")\n",
    "    exit()\n",
    "\n",
    "# Create an interactive plot using Plotly\n",
    "fig = go.Figure()\n",
    "\n",
    "# Add trace for keyword search interest over time\n",
    "fig.add_trace(go.Scatter(x=interest_over_time_df.index, y=interest_over_time_df[keyword],\n",
    "                         mode='lines',\n",
    "                         name=f'Search Interest for \"{keyword}\"'))\n",
    "\n",
    "# Update layout for better labeling and interactivity\n",
    "fig.update_layout(title=f'Search Interest Over Time for the Keyword \"{keyword}\" in the US (Past Year)',\n",
    "                  xaxis_title='Date',\n",
    "                  yaxis_title='Search Interest',\n",
    "                  xaxis=dict(tickangle=-45, tickfont=dict(size=10)),\n",
    "                  yaxis=dict(tickfont=dict(size=10)),\n",
    "                  template='plotly_white')\n",
    "\n",
    "# Show the interactive plot\n",
    "fig.show()\n",
    "\n",
    "# Export data to CSV with user-specified filename\n",
    "csv_filename = f\"{keyword}_search_interest_over_time.csv\"\n",
    "interest_over_time_df.to_csv(csv_filename)\n",
    "print(f\"Search interest over time data exported to {csv_filename}\")\n"
   ]
  },
  {
   "cell_type": "code",
   "execution_count": null,
   "metadata": {
    "ExecuteTime": {
     "end_time": "2024-02-13T07:09:08.182462100Z",
     "start_time": "2024-02-13T07:09:03.693211Z"
    }
   },
   "outputs": [],
   "source": [
    "import plotly.express as px\n",
    "\n",
    "# Display the top 15 related queries\n",
    "top_15_queries = df.head(15)\n",
    "\n",
    "# Create an interactive pie chart using Plotly\n",
    "fig = px.pie(top_15_queries, values='value', names='query', title='Top 15 Related Queries Distribution',\n",
    "             labels={'value': 'Percentage', 'query': 'Query'}, hole=0.0)  # Set hole size to 0 for full circle\n",
    "\n",
    "# Adjust layout to make it square and place color label on the right\n",
    "fig.update_layout(\n",
    "    autosize=False,\n",
    "    width=900,  # Set width and height to make it square\n",
    "    height=600,\n",
    "    legend=dict(\n",
    "        orientation=\"v\",  # Place legend vertically\n",
    "        xanchor=\"left\",   # Anchor to the left side\n",
    "        yanchor=\"middle\",  # Anchor to the middle\n",
    "        y=0.5,  # Center the legend vertically\n",
    "        x=1.1,  # Adjust the x-position to place it on the right\n",
    "        title_text=\"Query\",  # Add legend title\n",
    "    )\n",
    ")\n",
    "\n",
    "# Show the interactive plot\n",
    "fig.show()\n"
   ]
  },
  {
   "cell_type": "code",
   "execution_count": null,
   "metadata": {
    "ExecuteTime": {
     "end_time": "2024-02-13T07:00:39.122094300Z",
     "start_time": "2024-02-13T07:00:30.948918800Z"
    },
    "collapsed": false
   },
   "outputs": [],
   "source": [
    "from wordcloud import WordCloud\n",
    "import plotly.graph_objs as go\n",
    "from plotly.subplots import make_subplots\n",
    "\n",
    "# Generate the word cloud\n",
    "wordcloud = WordCloud(\n",
    "    width=1920,  # HD width\n",
    "    height=1080,  # HD height\n",
    "    background_color='white',\n",
    "    colormap='viridis',  # color map for the word cloud\n",
    "    contour_color='steelblue',  # contour color\n",
    "    contour_width=2,  # contour width\n",
    "    max_words=df.shape[0],  # maximum number of words to display\n",
    "    prefer_horizontal=0.8,  # prefer horizontal orientation of words\n",
    "    min_font_size=10,  # minimum font size\n",
    "    max_font_size=200,  # maximum font size for HD clarity\n",
    "    random_state=42  # random state for reproducibility\n",
    ").generate(' '.join(df['query']))\n",
    "\n",
    "# Convert word cloud to plotly format\n",
    "wordcloud_plotly = go.Image(z=wordcloud.to_array(), hoverinfo='none')\n",
    "\n",
    "# Create subplots\n",
    "fig = make_subplots(rows=1, cols=1)\n",
    "\n",
    "# Add word cloud to subplot\n",
    "fig.add_trace(wordcloud_plotly, row=1, col=1)\n",
    "\n",
    "# Update layout\n",
    "fig.update_layout(title_text='Related Queries Word Cloud', title_x=0.5, width=1280, height=720)\n",
    "\n",
    "# Show the interactive plot\n",
    "fig.show()\n"
   ]
  },
  {
   "cell_type": "code",
   "execution_count": null,
   "metadata": {
    "ExecuteTime": {
     "end_time": "2024-02-13T07:34:59.793847700Z",
     "start_time": "2024-02-13T07:34:54.739983Z"
    },
    "collapsed": false
   },
   "outputs": [],
   "source": [
    "import plotly.express as px\n",
    "import pandas as pd\n",
    "\n",
    "# Sort the DataFrame by the \"value\" column in descending order\n",
    "sorted_df = df.sort_values(by='value', ascending=False)\n",
    "\n",
    "# Create an interactive violin plot using Plotly\n",
    "fig = px.violin(sorted_df, y='value', box=True, points=\"all\", title='Violin Plot of Search Interest (Sorted by Value)',\n",
    "                labels={'value'})\n",
    "\n",
    "# Customize layout\n",
    "fig.update_layout(\n",
    "    xaxis_title='Distribution',\n",
    "    yaxis_title='Search Interest',\n",
    "    font=dict(size=14),\n",
    "    template='plotly_white'\n",
    ")\n",
    "\n",
    "# Show the interactive plot\n",
    "fig.show()\n"
   ]
  },
  {
   "cell_type": "code",
   "execution_count": null,
   "metadata": {
    "ExecuteTime": {
     "end_time": "2024-02-13T07:37:09.006708Z",
     "start_time": "2024-02-13T07:37:08.263547600Z"
    },
    "collapsed": false
   },
   "outputs": [],
   "source": [
    "import plotly.express as px\n",
    "import pandas as pd\n",
    "import seaborn as sns\n",
    "\n",
    "# Set a consistent color palette\n",
    "palette = sns.color_palette(\"viridis\", n_colors=len(df))\n",
    "\n",
    "# Create a scatter plot using Plotly\n",
    "fig = px.scatter(df, x=df.index, y='value', color='query', color_discrete_sequence=palette, \n",
    "                 title='Scatter Plot of Search Interest', labels={'value': 'Search Interest', 'index': 'Query Index'})\n",
    "\n",
    "# Customize layout\n",
    "fig.update_layout(\n",
    "    xaxis_title='Query Index',\n",
    "    yaxis_title='Search Interest',\n",
    "    font=dict(size=14),\n",
    "    legend=dict(\n",
    "        title='Query',\n",
    "        yanchor='top',\n",
    "        y=0.95,\n",
    "        xanchor='left',\n",
    "        x=0.75\n",
    "    ),\n",
    "    template='plotly_white'\n",
    ")\n",
    "\n",
    "# Show the interactive plot\n",
    "fig.show()\n"
   ]
  },
  {
   "cell_type": "code",
   "execution_count": null,
   "metadata": {
    "collapsed": false
   },
   "outputs": [],
   "source": []
  }
 ],
 "metadata": {
  "kernelspec": {
   "display_name": "Python 3",
   "language": "python",
   "name": "python3"
  },
  "language_info": {
   "codemirror_mode": {
    "name": "ipython",
    "version": 3
   },
   "file_extension": ".py",
   "mimetype": "text/x-python",
   "name": "python",
   "nbconvert_exporter": "python",
   "pygments_lexer": "ipython3",
   "version": "3.12.2"
  }
 },
 "nbformat": 4,
 "nbformat_minor": 2
}
