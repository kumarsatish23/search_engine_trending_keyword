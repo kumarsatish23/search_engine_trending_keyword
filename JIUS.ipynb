{
 "cells": [
  {
   "cell_type": "code",
   "outputs": [],
   "source": [
    "pip install --upgrade pip"
   ],
   "metadata": {
    "collapsed": false
   },
   "execution_count": null
  },
  {
   "cell_type": "code",
   "outputs": [],
   "source": [
    "pip install pytrends"
   ],
   "metadata": {
    "collapsed": false
   },
   "execution_count": null
  },
  {
   "cell_type": "code",
   "outputs": [],
   "source": [
    "pip install pandas"
   ],
   "metadata": {
    "collapsed": false
   },
   "execution_count": null
  },
  {
   "cell_type": "code",
   "outputs": [],
   "source": [
    "pip install matplotlib"
   ],
   "metadata": {
    "collapsed": false
   },
   "execution_count": null
  },
  {
   "cell_type": "code",
   "outputs": [],
   "source": [
    "pip install wordcloud"
   ],
   "metadata": {
    "collapsed": false
   },
   "execution_count": null
  },
  {
   "cell_type": "code",
   "outputs": [],
   "source": [
    "pip install seaborn"
   ],
   "metadata": {
    "collapsed": false
   },
   "execution_count": null
  },
  {
   "cell_type": "code",
   "execution_count": null,
   "metadata": {},
   "outputs": [],
   "source": [
    "from pytrends.request import TrendReq\n",
    "import pandas as pd\n",
    "from IPython.display import display, HTML\n",
    "\n",
    "# Create pytrends object\n",
    "pytrends = TrendReq()\n",
    "\n",
    "# Read keyword input from the user\n",
    "keyword_input = input(\"Enter a keyword value: \")\n",
    "\n",
    "# Build payload to get related queries for the main keyword\n",
    "try:\n",
    "    pytrends.build_payload(kw_list=[keyword_input], geo='US', timeframe='today 12-m')\n",
    "    related_queries_main = pytrends.related_queries().values()\n",
    "except Exception as e:\n",
    "    print(\"Error occurred while fetching related queries:\", e)\n",
    "    related_queries_main = []\n",
    "\n",
    "# Extract queries from the dictionary values for the main keyword\n",
    "queries = []\n",
    "for query_data in related_queries_main:\n",
    "    if query_data['top'] is not None:\n",
    "        queries.extend(query_data['top']['query'].tolist())\n",
    "\n",
    "# Define the number of results per batch\n",
    "results_per_batch = 25\n",
    "\n",
    "# List to store all related queries\n",
    "related_queries_all = []\n",
    "\n",
    "# Process queries in batches\n",
    "for query in queries:\n",
    "    try:\n",
    "        pytrends.build_payload(kw_list=[query], geo='US', timeframe='today 12-m')\n",
    "        related_queries = pytrends.related_queries().values()\n",
    "        for query_data in related_queries:\n",
    "            if query_data['top'] is not None:\n",
    "                query_list = query_data['top']['query'].tolist()\n",
    "                value_list = query_data['top']['value'].tolist()\n",
    "                for related_query, value in zip(query_list, value_list):\n",
    "                    # Check if the query already exists in related_queries_all\n",
    "                    query_exists = False\n",
    "                    for existing_query in related_queries_all:\n",
    "                        if existing_query['query'] == related_query:\n",
    "                            existing_query['value'] += value\n",
    "                            query_exists = True\n",
    "                            break\n",
    "                    if not query_exists:\n",
    "                        related_queries_all.append({'query': related_query, 'value': value})\n",
    "    except Exception as e:\n",
    "        print(\"Error occurred while processing query:\", query, e)\n",
    "\n",
    "# Sort the related queries by value in descending order\n",
    "related_queries_all_sorted = sorted(related_queries_all, key=lambda x: x['value'], reverse=True)\n",
    "\n",
    "# Convert the sorted related queries data into a pandas DataFrame\n",
    "df = pd.DataFrame(related_queries_all_sorted)\n",
    "\n",
    "# Display the DataFrame as a scrollable table\n",
    "display(HTML(df.to_html()))\n",
    "\n",
    "# Export data to CSV with user-specified filename\n",
    "csv_filename = f\"{keyword_input}.csv\"\n",
    "df.to_csv(csv_filename, index=False)\n",
    "print(f\"Data exported to {csv_filename}\")\n"
   ]
  },
  {
   "cell_type": "code",
   "execution_count": null,
   "metadata": {},
   "outputs": [],
   "source": [
    "from pytrends.request import TrendReq\n",
    "import pandas as pd\n",
    "import matplotlib.pyplot as plt\n",
    "\n",
    "# Create pytrends object\n",
    "pytrends = TrendReq()\n",
    "\n",
    "# Read keyword input from the user\n",
    "keyword = input(\"Enter a keyword value: \")\n",
    "\n",
    "# Build payload to get search interest by region\n",
    "pytrends.build_payload(kw_list=[keyword], geo='US', timeframe='today 12-m')\n",
    "\n",
    "# Get search interest by region\n",
    "state_data = pytrends.interest_by_region(resolution='REGION', inc_low_vol=True, inc_geo_code=False)\n",
    "\n",
    "# Convert state codes to state names\n",
    "state_names = []\n",
    "for state_code in state_data.index:\n",
    "    try:\n",
    "        state_name = pytrends.suggestions(state_code)[0]['title']\n",
    "    except IndexError:\n",
    "        state_name = state_code  # Use state code if state name not found\n",
    "    state_names.append(state_name)\n",
    "state_data['State'] = state_names\n",
    "\n",
    "# Sort state-wise search interest data by values in descending order\n",
    "state_data_sorted = state_data.sort_values(by=keyword, ascending=False)\n",
    "\n",
    "# Plot state-wise keyword search interest\n",
    "plt.figure(figsize=(12, 6))\n",
    "ax = state_data_sorted.plot(kind='bar', figsize=(15, 8), color='skyblue')\n",
    "plt.title(f'State-wise Search Interest for the Keyword \"{keyword}\" in the US (Past Year)', fontsize=16)\n",
    "plt.xlabel('State', fontsize=14)\n",
    "plt.ylabel('Search Interest', fontsize=14)\n",
    "plt.xticks(rotation=45, ha='right', fontsize=12)  # Rotate x-axis labels for readability\n",
    "plt.yticks(fontsize=12)\n",
    "plt.grid(axis='y', linestyle='--', alpha=0.7)  # Add grid lines for reference\n",
    "\n",
    "# Add values on top of each bar\n",
    "for bar in ax.patches:\n",
    "    ax.annotate(str(int(bar.get_height())), (bar.get_x() + bar.get_width() / 2, bar.get_height()), ha='center', va='bottom', fontsize=10)\n",
    "\n",
    "plt.tight_layout()  # Adjust layout to prevent clipping of labels\n",
    "plt.show()\n",
    "\n",
    "# Export data to CSV with user-specified filename\n",
    "csv_filename = f\"{keyword}_search_interest.csv\"\n",
    "state_data_sorted.to_csv(csv_filename)\n",
    "print(f\"State-wise search interest data exported to {csv_filename}\")\n"
   ]
  },
  {
   "cell_type": "code",
   "execution_count": null,
   "metadata": {},
   "outputs": [],
   "source": [
    "import matplotlib.pyplot as plt\n",
    "\n",
    "# Convert the sorted related queries data into a pandas DataFrame\n",
    "related_queries_df = pd.DataFrame(related_queries_all_sorted)\n",
    "\n",
    "# Display the top 15 related queries\n",
    "top_15_queries = related_queries_df.head(15)\n",
    "\n",
    "# Pie Chart\n",
    "plt.figure(figsize=(10, 8))\n",
    "plt.pie(top_15_queries['value'], labels=top_15_queries['query'], autopct='%1.1f%%', startangle=140)\n",
    "plt.title('Top 15 Related Queries Distribution')\n",
    "plt.axis('equal')\n",
    "plt.show()\n"
   ]
  },
  {
   "cell_type": "code",
   "outputs": [],
   "source": [
    "related_queries_dataframe = pd.DataFrame(related_queries_all_sorted)\n",
    "related_queries_dataframe.shape[0]"
   ],
   "metadata": {
    "collapsed": false
   },
   "execution_count": null
  },
  {
   "cell_type": "code",
   "outputs": [],
   "source": [
    "import matplotlib.pyplot as plt\n",
    "from wordcloud import WordCloud\n",
    "\n",
    "# Convert the sorted related queries data into a pandas DataFrame\n",
    "related_queries_dataframe = pd.DataFrame(related_queries_all_sorted)\n",
    "\n",
    "# Generate the word cloud\n",
    "wordcloud = WordCloud(\n",
    "    width=1920,  # HD width\n",
    "    height=1080,  # HD height\n",
    "    background_color='white',\n",
    "    colormap='viridis',  # color map for the word cloud\n",
    "    contour_color='steelblue',  # contour color\n",
    "    contour_width=2,  # contour width\n",
    "    max_words=related_queries_dataframe.shape[0],  # maximum number of words to display\n",
    "    prefer_horizontal=0.8,  # prefer horizontal orientation of words\n",
    "    min_font_size=10,  # minimum font size\n",
    "    max_font_size=200,  # maximum font size for HD clarity\n",
    "    random_state=42  # random state for reproducibility\n",
    ").generate(' '.join(related_queries_dataframe['query']))\n",
    "\n",
    "# Plot the word cloud\n",
    "plt.figure(figsize=(19.20, 10.80))  # HD aspect ratio\n",
    "plt.imshow(wordcloud, interpolation='bilinear')\n",
    "plt.title('Related Queries Word Cloud', fontsize=24)  # Increased title font size\n",
    "plt.axis('off')\n",
    "plt.tight_layout()  # Adjust layout for better appearance\n",
    "plt.show()\n"
   ],
   "metadata": {
    "collapsed": false
   },
   "execution_count": null
  },
  {
   "cell_type": "code",
   "outputs": [],
   "source": [
    "import matplotlib.pyplot as plt\n",
    "import seaborn as sns\n",
    "\n",
    "# Sort the DataFrame by the \"value\" column in descending order\n",
    "sorted_df = df.sort_values(by='value', ascending=False)\n",
    "\n",
    "# Set plot style to use high-definition output\n",
    "sns.set_context(\"talk\")\n",
    "\n",
    "# Violin Plot\n",
    "plt.figure(figsize=(14, 8))\n",
    "sns.violinplot(data=sorted_df, y='value', color='skyblue', linewidth=2, inner='quartile')\n",
    "plt.title('Violin Plot of Search Interest (Sorted by Value)', fontsize=20)\n",
    "plt.xlabel('Search Interest', fontsize=16)\n",
    "plt.ylabel('Distribution', fontsize=16)\n",
    "plt.grid(True, linestyle='--', alpha=0.7)\n",
    "plt.xticks(fontsize=14)\n",
    "plt.yticks(fontsize=14)\n",
    "# plt.tight_layout()\n",
    "plt.show()\n"
   ],
   "metadata": {
    "collapsed": false
   },
   "execution_count": null
  },
  {
   "cell_type": "code",
   "outputs": [],
   "source": [
    "import matplotlib.pyplot as plt\n",
    "import seaborn as sns\n",
    "\n",
    "# Set a consistent color palette\n",
    "palette = sns.color_palette(\"viridis\", n_colors=len(df))\n",
    "plt.figure(figsize=(1920/100, 1080/100), dpi=300)  # 1920x1080 resolution\n",
    "\n",
    "# Scatter Plot\n",
    "plt.figure(figsize=(12, 8))\n",
    "sns.scatterplot(data=df, x=df.index, y='value', hue='query', palette=palette, s=100, alpha=0.7)\n",
    "plt.title('Scatter Plot of Search Interest')\n",
    "plt.xlabel('Query Index')\n",
    "plt.ylabel('Search Interest')\n",
    "plt.legend(bbox_to_anchor=(1.05, 1), loc='upper left')\n",
    "plt.xticks(rotation=45)\n",
    "\n",
    "# Adjust margins\n",
    "plt.subplots_adjust(bottom=0.1, top=0.9, left=0.1, right=0.9)\n",
    "\n",
    "plt.show()\n"
   ],
   "metadata": {
    "collapsed": false
   },
   "execution_count": null
  }
 ],
 "metadata": {
  "kernelspec": {
   "display_name": "Python 3",
   "language": "python",
   "name": "python3"
  },
  "language_info": {
   "codemirror_mode": {
    "name": "ipython",
    "version": 3
   },
   "file_extension": ".py",
   "mimetype": "text/x-python",
   "name": "python",
   "nbconvert_exporter": "python",
   "pygments_lexer": "ipython3",
   "version": "3.12.2"
  }
 },
 "nbformat": 4,
 "nbformat_minor": 2
}
